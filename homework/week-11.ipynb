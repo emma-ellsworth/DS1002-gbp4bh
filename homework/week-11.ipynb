{
  "nbformat": 4,
  "nbformat_minor": 0,
  "metadata": {
    "colab": {
      "provenance": [],
      "include_colab_link": true
    },
    "kernelspec": {
      "name": "python3",
      "display_name": "Python 3"
    },
    "language_info": {
      "name": "python"
    }
  },
  "cells": [
    {
      "cell_type": "markdown",
      "metadata": {
        "id": "view-in-github",
        "colab_type": "text"
      },
      "source": [
        "<a href=\"https://colab.research.google.com/github/emma-ellsworth/DS1002-gbp4bh/blob/main/homework/week-11.ipynb\" target=\"_parent\"><img src=\"https://colab.research.google.com/assets/colab-badge.svg\" alt=\"Open In Colab\"/></a>"
      ]
    },
    {
      "cell_type": "markdown",
      "source": [
        "# Homework - Error Handling & Recursion\n",
        "\n",
        "Complete the cells below. Pay close attention to all directions given.\n",
        "\n",
        "## Error Handling (3 pts)\n",
        "\n",
        "```\n",
        "def throw_me_an_error():\n",
        "  val1 = 14\n",
        "  val2 = 0\n",
        "  return val1 / val2\n",
        "\n",
        "throw_me_an_error()\n",
        "```\n",
        "\n",
        "The function above is designed to deliberately throw an error.\n",
        "\n",
        "Create a new version of the function but add `try` and `except` statements correctly. Your exception should print out the type of error this function created. There are a couple of different ways you could do this.\n"
      ],
      "metadata": {
        "id": "v14Xtd9oiTGF"
      }
    },
    {
      "cell_type": "code",
      "execution_count": 4,
      "metadata": {
        "id": "-dfq0Vo_iSi7",
        "colab": {
          "base_uri": "https://localhost:8080/"
        },
        "outputId": "05e3dde5-0bf2-476b-9eea-3e3470d5c3b4"
      },
      "outputs": [
        {
          "output_type": "stream",
          "name": "stdout",
          "text": [
            "A zero division error ocurred\n"
          ]
        }
      ],
      "source": [
        "# Trial/Error Method:\n",
        "\n",
        "def throw_me_an_error():\n",
        "  val1 = 14\n",
        "  val2 = 0\n",
        "  try :\n",
        "    print(val1 / val2)\n",
        "  except IndexError:\n",
        "    print(\"An index error ocured\")\n",
        "  except ValueError:\n",
        "    print(\"A value error ecurred\")\n",
        "  except ZeroDivisionError:\n",
        "    print(\"A zero division error ocurred\")\n",
        "  else:\n",
        "    print(\"Unidentified error ocurred\")\n",
        "\n",
        "throw_me_an_error()\n"
      ]
    },
    {
      "cell_type": "code",
      "source": [
        "# Printing exact error method:\n",
        "\n",
        "def throw_me_an_error():\n",
        "  val1 = 14\n",
        "  val2 = 0\n",
        "  try :\n",
        "    print(val1 / val2)\n",
        "  except Exception as e:\n",
        "    print(f\"An Exception has occurred: {e}\")\n",
        "\n",
        "throw_me_an_error()"
      ],
      "metadata": {
        "colab": {
          "base_uri": "https://localhost:8080/"
        },
        "id": "d42sYLtc3Vj_",
        "outputId": "10c62334-5717-4f42-9c03-287e88121bbc"
      },
      "execution_count": 7,
      "outputs": [
        {
          "output_type": "stream",
          "name": "stdout",
          "text": [
            "An Exception has occurred: division by zero\n"
          ]
        }
      ]
    },
    {
      "cell_type": "markdown",
      "source": [
        "## Error Handling (4 pts)\n",
        "\n",
        "Extend the class below to include some error handling. Assume the remote resource is offline for a moment: How would you give a message to the user indicating what has gone wrong? (Hint: one way you can test this is by deliberately misspelling the URL for the remote resource.)\n",
        "\n",
        "Also, include error handling logic so that execution of the class method `guid()` always returns a line \"Your request has been completed\" along with the guid it created.\n",
        "\n",
        "```\n",
        "import requests\n",
        "import json\n",
        "import sys\n",
        "\n",
        "class Id:\n",
        "\n",
        "  def guid():\n",
        "    response = requests.get('https://ids.pods.uvarc.io/guid')\n",
        "    body = json.loads(response.text)\n",
        "    return body['id']\n",
        "\n",
        "Id.guid()\n",
        "```"
      ],
      "metadata": {
        "id": "gf9m78RWmWqC"
      }
    },
    {
      "cell_type": "code",
      "source": [
        "\n",
        "# No error scenario:\n",
        "\n",
        "import requests\n",
        "import json\n",
        "import sys\n",
        "\n",
        "class Id:\n",
        "\n",
        "  def guid():\n",
        "    try:\n",
        "      response = requests.get('https://ids.pods.uvarc.io/guid')\n",
        "      body = json.loads(response.text)\n",
        "      print(body['id'])\n",
        "    except Exception as e :\n",
        "      print(f\"an error ocurred: {e}\")\n",
        "Id.guid()\n",
        "\n"
      ],
      "metadata": {
        "id": "hT5B-LokmUbU",
        "colab": {
          "base_uri": "https://localhost:8080/"
        },
        "outputId": "c6012287-ecce-4cd5-87ca-6b36c0d6d01d"
      },
      "execution_count": 16,
      "outputs": [
        {
          "output_type": "stream",
          "name": "stdout",
          "text": [
            "256c4f10-d154-436a-9156-df1eceb98945\n"
          ]
        }
      ]
    },
    {
      "cell_type": "code",
      "source": [
        "# Incorrectly spelled URL scenario:\n",
        "\n",
        "import requests\n",
        "import json\n",
        "import sys\n",
        "\n",
        "class Id:\n",
        "\n",
        "  def guid():\n",
        "    try:\n",
        "      response = requests.get('ttps://ids.pods.uvarc.io/guid')\n",
        "      body = json.loads(response.text)\n",
        "      print(body['id'])\n",
        "    except Exception as e :\n",
        "      print(f\"An error ocurred: {e}\")\n",
        "Id.guid()\n"
      ],
      "metadata": {
        "colab": {
          "base_uri": "https://localhost:8080/"
        },
        "id": "ttBd0qhp4tn-",
        "outputId": "3aa334af-1f03-438b-917d-3ceb3e01f533"
      },
      "execution_count": 18,
      "outputs": [
        {
          "output_type": "stream",
          "name": "stdout",
          "text": [
            "An error ocurred: No connection adapters were found for 'ttps://ids.pods.uvarc.io/guid'\n"
          ]
        }
      ]
    },
    {
      "cell_type": "markdown",
      "source": [
        "## Recursive Functions (3 pts)\n",
        "\n",
        "In the cell below, explain line by line the logic of what is being calculated when the function is called with an input value of 2.\n",
        "\n",
        "```\n",
        "def squarer(n):\n",
        "  if n == 1:\n",
        "    return 2\n",
        "  else:\n",
        "    return squarer(n-1) ** 2 + n\n",
        "\n",
        "squarer(2)\n",
        "```"
      ],
      "metadata": {
        "id": "XCuNofSFomZ6"
      }
    },
    {
      "cell_type": "code",
      "source": [
        "# answer goes here. Add space as needed.\n",
        "\n",
        "Line 1.\n",
        "\n",
        "# Line 1 determines whether or not the value of n is equal to 1.\n",
        "\n",
        "Line 2.\n",
        "\n",
        "# If the value of n is determined to be 1 in the previous line, the function\n",
        "# will return 2. However, in this case the function will proceed to the else\n",
        "# statement since the input is not 1.\n",
        "\n",
        "Line 3.\n",
        "\n",
        "# Since the input value is 2, the else statement is called by the function.\n",
        "\n",
        "Line 4.\n",
        "\n",
        "# The code within. the else statement is run when the input value does not equal\n",
        "# 1. In this case, the input value is 2, which is plugged into the equation of\n",
        "# squarer(n-1) ** 2 + n. This results in the calculation of 2**2 + 2, which is\n",
        "# equal to 6.\n",
        "\n",
        "Line 5.\n",
        "\n",
        "# This line of code is what calls the function previously defined, with the\n",
        "# input parameter of 2."
      ],
      "metadata": {
        "id": "oYiqS2cxxXm4"
      },
      "execution_count": null,
      "outputs": []
    }
  ]
}